{
 "cells": [
  {
   "cell_type": "markdown",
   "metadata": {},
   "source": [
    "# GRU (LSTM/RNN) Architecture and Training\n",
    "\n",
    "We have time series data, so we should use a time series based neural network.  \n",
    "Recurrent NNs are a standard sequence based model, but suffers from vanishing gradient etc.  \n",
    "Alternatively LSTM (long short term memory) often out performs RNNs, and are better at learning long term dependencies.  \n",
    "This would make an LSTM ideal for us, where we want the model to learn how to take into account say previous years and stuff.  \n",
    "However, LSTMs are somewhat complicated, and we don't have a ton of data.  \n",
    "An alternative is a GRU (grated recurrent unit), which is a little simpler than a default LSTM, which may be desirable given our small dataset.  \n",
    "Because GRUs are trained on an arbituary sequence of inputs, the various training stages can be simplified significantly.  \n",
    "\n",
    "\n",
    "## General Architectures\n",
    "\n",
    "The model architecture would be quite simple.\n",
    "First is a single GRU layer, 36 dim input (for each day), 256 dim hidden layer (to hopefully accomodate long sequences), 1 GRU layer (just for simplicity), with some drop out.  \n",
    "This GRU layer will then feed into a single linear layer 256 -> 2.  \n",
    "So the network will look like Dx36 -> GRU -> 256 -> 2, where D is the number of days.  \n",
    "\n",
    "## Training Phases\n",
    "\n",
    "Because sequences can be of arbitrary length, we can just have the training phases be of increasingly long periods of time.\n",
    "\n",
    "1. Weekly (7 days). Should allow network to learn how to translate climate variables to approximate daily elevations.\n",
    "2. Monthly (31 days). \"    \" learn how climate variables across a whole month can effect elevation.\n",
    "3. Semiannual (186 days) \"    \" learn more across a longer time period.\n",
    "4. Annual (365 days)\n",
    "5. Biannual (730 days)\n",
    "6. Semidecade (1825)\n",
    "7. Decade (3650 days)\n",
    "8. Bidecade (7300 days)\n",
    "\n",
    "The number of observations in each training phase are:\n",
    "\n",
    "1. 14603\n",
    "2. 14579\n",
    "3. 14424\n",
    "4. 14245\n",
    "5. 13880\n",
    "6. 12785\n",
    "7. 10960\n",
    "8. 7310\n",
    "\n",
    "\n",
    "<!-- # Model Architectures and Training Phases\n",
    "\n",
    "Since we have limited data, I have created three datasets that go from long to wide.  \n",
    "\n",
    "* Daily: Elevation, climate variables aggregated across the 9 watershed segments.\n",
    "* Monthly: min/max elevation with 31 instances of the 3 climate variable aggregated across the 9 watershed segments.\n",
    "* Yearly: min/max elevation, with 12 instances of 31 days with 3 climate variables aggregated across the 9 watershed segments  \n",
    "\n",
    "## General architectures\n",
    "\n",
    "Simple linear feedforward NNs.  \n",
    "Likely a 256 -> 128 -> 64 -> 32 as the main body of the network.  \n",
    "For an AE, this can then be reversed: 256 -> 128 -> 64 -> 32 -> 64 -> 128 -> 256.  \n",
    "Since we have different temporal resolutions of data, the input and output layers will be adjusted accordingly  \n",
    "\n",
    "\n",
    "## Phases\n",
    "\n",
    "1. Daily, AE.\n",
    "    * Using the daily climate variables train an AE to learn a representation of the data while we have the most amount if observations.\n",
    "    * Architecture: 27 -> (256,128,64,32,64,128,256) -> 27\n",
    "2. Daily, Single Elevation.\n",
    "    * Using the daily variables, learn to predict daily elevation.\n",
    "    * Part 1, just learn the output layer.\n",
    "    * Architecture: [27 -> (256,128,64,32)] -> 1 (freeze what we learned before, just learn output)\n",
    "    * Part 2, unfreeze the other layers to learn more information.\n",
    "    * Architecture: 27 -> (256,128,64,32) -> 1 (Unfreeze all layers)\n",
    "3. Monthly, Min/Max Elevation.\n",
    "    * Using monthly variables, learn to predict monthly min/max.\n",
    "    * since we know a daily (27) representation, repeat those weights 31 times to initialize the 31*27=837 input.\n",
    "    * Part 1, first learn the new input layer.\n",
    "    * Architecture: 837 -> [(256,128,64,32) -> 1]. (we will use average min/max to be more consistent with the final output layer).\n",
    "    * Part 2, Now learn the min/max output.\n",
    "    * Architecture: [837 -> (256,128,64,32)] -> 2.\n",
    "    * Part 3, Unfreeze whole network.\n",
    "    * Architecture 837 -> (256,128,64,32) -> 2.\n",
    "4. Annual, Min/Max Elevation.\n",
    "    * Now finally using the annual data, predict min/max.\n",
    "    * First, repeat 837*12=10044 to initialize new input layer.\n",
    "    * Part 1, learn new input layer.\n",
    "    * Architecture: 10044 -> [(256,128,64,32)->2]. (Note we freeze everything else).\n",
    "    * Part 2, learn everything else.\n",
    "    * Architecture: 10044 -> (256, 128, 64, 32) -> 2. Unfreeze everything. -->\n"
   ]
  },
  {
   "cell_type": "code",
   "execution_count": 2,
   "metadata": {},
   "outputs": [
    {
     "name": "stderr",
     "output_type": "stream",
     "text": [
      "/tmp/ipykernel_6077/3725336831.py:7: DeprecationWarning: \n",
      "Pyarrow will become a required dependency of pandas in the next major release of pandas (pandas 3.0),\n",
      "(to allow more performant data types, such as the Arrow string type, and better interoperability with other libraries)\n",
      "but was not found to be installed on your system.\n",
      "If this would cause problems for you,\n",
      "please provide us feedback at https://github.com/pandas-dev/pandas/issues/54466\n",
      "        \n",
      "  import pandas as pd\n"
     ]
    }
   ],
   "source": [
    "import torch\n",
    "import torch.nn as nn\n",
    "import torch.optim as optim\n",
    "from torch.utils.data import DataLoader, TensorDataset, Dataset\n",
    "import torch.nn.init as init\n",
    "\n",
    "import pandas as pd\n",
    "import numpy as np\n",
    "from tqdm import tqdm\n",
    "from sklearn.preprocessing import StandardScaler\n",
    "import matplotlib.pyplot as plt"
   ]
  },
  {
   "cell_type": "markdown",
   "metadata": {},
   "source": [
    "# Set up data"
   ]
  },
  {
   "cell_type": "code",
   "execution_count": 3,
   "metadata": {},
   "outputs": [],
   "source": [
    "class BearLakeDataset(Dataset):\n",
    "    def __init__(self, input_df, period_days):\n",
    "        super().__init__()\n",
    "        self.df = input_df.copy()\n",
    "        self.df['Elevation'] = self.df['Elevation'].interpolate(method='linear')\n",
    "        self.scaler = StandardScaler()\n",
    "        self.df.iloc[:, 2:] = self.scaler.fit_transform(self.df.iloc[:, 2:].values)\n",
    "        self.period = period_days\n",
    "        # Calculate the water year min/max if the period is longer than 365 days\n",
    "        # if period_days >= 365:\n",
    "        #     self.tmp_df = self.df[['date', 'Elevation']].copy()\n",
    "        #     self.tmp_df['month'] = self.tmp_df['date'].dt.month\n",
    "        #     self.tmp_df['date']  = self.tmp_df['date'].dt.year\n",
    "        #     # Convert year to water year\n",
    "        #     def water_year(row):\n",
    "        #         if row['month'] >= 10:  # October is month 10\n",
    "        #             return pd.Period(year=row['date'] + 1, freq='Y-SEP')\n",
    "        #         else:\n",
    "        #             return pd.Period(year=row['date'], freq='Y-SEP')\n",
    "        #     self.tmp_df['date'] = self.tmp_df.apply(water_year, axis=1)\n",
    "        #     # Find min/max\n",
    "        #     self.tmp_df = self.tmp_df.groupby('date')['Elevation'].agg(['min', 'max']).reset_index()\n",
    "\n",
    "    def __len__(self):\n",
    "        len = self.df.shape[0] - self.period\n",
    "        return len + 1\n",
    "    \n",
    "    def __getitem__(self, index):\n",
    "        X = self.df.iloc[index:index+self.period, 2:].values\n",
    "        # if self.period < 365:\n",
    "        Y = self.df.iloc[index:index+self.period, 1].values\n",
    "        y_m = Y.min()\n",
    "        y_M = Y.max()\n",
    "        Ys = np.array([y_m, y_M])\n",
    "        # else:\n",
    "        #     last_year = self.df.iloc[index + self.period-1].date.year\n",
    "        #     Y = self.tmp_df[self.tmp_df.date.dt.year == last_year]\n",
    "        #     y_m = Y['min'].values\n",
    "        #     y_M = Y['max'].values\n",
    "        #     Ys = np.array([y_m, y_M]).flatten()\n",
    "        return torch.tensor(X, dtype=torch.float32), torch.tensor(Ys, dtype=torch.float32)\n"
   ]
  },
  {
   "cell_type": "markdown",
   "metadata": {},
   "source": [
    "# Set up model code"
   ]
  },
  {
   "cell_type": "code",
   "execution_count": 4,
   "metadata": {},
   "outputs": [],
   "source": [
    "# Define the GRU model\n",
    "class GRU_MME(nn.Module):\n",
    "    def __init__(self, input_size=80, hidden_size=32, output_size=2, num_layers=1, dropout=0.5,\n",
    "                 scale=20, shift=5914.26):\n",
    "        super(GRU_MME, self).__init__()\n",
    "        self.scale = scale\n",
    "        self.shift = shift\n",
    "\n",
    "        self.gru = nn.GRU(input_size, hidden_size, num_layers, batch_first=True)\n",
    "        # self.bn = nn.BatchNorm1d(hidden_size)\n",
    "        self.act = nn.Tanh()\n",
    "        self.do = nn.Dropout(dropout)\n",
    "        self.fc = nn.Linear(hidden_size, output_size)\n",
    "        self.serial = nn.Sequential(\n",
    "            self.do, self.act, self.fc, self.act\n",
    "        )\n",
    "\n",
    "    def forward(self, x):\n",
    "        # Initialize hidden state\n",
    "        h0 = torch.zeros(self.gru.num_layers, x.size(0), self.gru.hidden_size).to(x.device)\n",
    "        # Forward pass through GRU layer\n",
    "        out, _ = self.gru(x, h0.detach())\n",
    "        # linear_outputs = torch.stack([self.scale * self.serial(out[:, i, :]) + self.shift for i in range(out.size(1))], dim=1)\n",
    "        linear_outputs = self.scale * self.serial(out) + self.shift\n",
    "        std, mean = torch.std_mean(linear_outputs, dim=1)\n",
    "        # out = self.scale * self.serial(out[:, -1, :]) + self.shift\n",
    "        return mean, std"
   ]
  },
  {
   "cell_type": "markdown",
   "metadata": {},
   "source": [
    "# Promising Model Configurations\n",
    "\n",
    "training: period min/max (instead of last wateryear min/max)\n",
    "testing: last 3 years\n",
    "Period: 3 years\n",
    "Epochs: 75\n",
    "lr: "
   ]
  },
  {
   "cell_type": "code",
   "execution_count": 5,
   "metadata": {},
   "outputs": [
    {
     "name": "stdout",
     "output_type": "stream",
     "text": [
      "Training on 1095 days for 100 epochs...\n"
     ]
    },
    {
     "name": "stderr",
     "output_type": "stream",
     "text": [
      "Loss: 27.2427: 100%|██████████| 13/13 [00:09<00:00,  1.35it/s]\n"
     ]
    },
    {
     "name": "stdout",
     "output_type": "stream",
     "text": [
      "Testing loss: 7.6540\n"
     ]
    },
    {
     "name": "stderr",
     "output_type": "stream",
     "text": [
      "Loss: 20.2204: 100%|██████████| 13/13 [00:09<00:00,  1.37it/s]\n"
     ]
    },
    {
     "name": "stdout",
     "output_type": "stream",
     "text": [
      "Testing loss: 5.1874\n"
     ]
    },
    {
     "name": "stderr",
     "output_type": "stream",
     "text": [
      "Loss: 17.8169: 100%|██████████| 13/13 [00:09<00:00,  1.36it/s]\n"
     ]
    },
    {
     "name": "stdout",
     "output_type": "stream",
     "text": [
      "Testing loss: 6.2454\n"
     ]
    },
    {
     "name": "stderr",
     "output_type": "stream",
     "text": [
      "Loss: 17.3621: 100%|██████████| 13/13 [00:09<00:00,  1.36it/s]\n"
     ]
    },
    {
     "name": "stdout",
     "output_type": "stream",
     "text": [
      "Testing loss: 6.4859\n"
     ]
    },
    {
     "name": "stderr",
     "output_type": "stream",
     "text": [
      "Loss: 18.2585: 100%|██████████| 13/13 [00:09<00:00,  1.37it/s]\n"
     ]
    },
    {
     "name": "stdout",
     "output_type": "stream",
     "text": [
      "Testing loss: 5.5750\n"
     ]
    },
    {
     "name": "stderr",
     "output_type": "stream",
     "text": [
      "Loss: 16.9237: 100%|██████████| 13/13 [00:09<00:00,  1.37it/s]\n"
     ]
    },
    {
     "name": "stdout",
     "output_type": "stream",
     "text": [
      "Testing loss: 5.5028\n"
     ]
    },
    {
     "name": "stderr",
     "output_type": "stream",
     "text": [
      "Loss: 15.3045: 100%|██████████| 13/13 [00:09<00:00,  1.35it/s]\n"
     ]
    },
    {
     "name": "stdout",
     "output_type": "stream",
     "text": [
      "Testing loss: 5.6292\n"
     ]
    },
    {
     "name": "stderr",
     "output_type": "stream",
     "text": [
      "Loss: 17.1347: 100%|██████████| 13/13 [00:09<00:00,  1.35it/s]\n"
     ]
    },
    {
     "name": "stdout",
     "output_type": "stream",
     "text": [
      "Testing loss: 5.6393\n"
     ]
    },
    {
     "name": "stderr",
     "output_type": "stream",
     "text": [
      "Loss: 14.9597: 100%|██████████| 13/13 [00:09<00:00,  1.37it/s]\n"
     ]
    },
    {
     "name": "stdout",
     "output_type": "stream",
     "text": [
      "Testing loss: 4.7079\n"
     ]
    },
    {
     "name": "stderr",
     "output_type": "stream",
     "text": [
      "Loss: 15.1067: 100%|██████████| 13/13 [00:09<00:00,  1.37it/s]\n"
     ]
    },
    {
     "name": "stdout",
     "output_type": "stream",
     "text": [
      "Testing loss: 4.3597\n"
     ]
    },
    {
     "name": "stderr",
     "output_type": "stream",
     "text": [
      "Loss: 11.6591: 100%|██████████| 13/13 [00:09<00:00,  1.36it/s]\n"
     ]
    },
    {
     "name": "stdout",
     "output_type": "stream",
     "text": [
      "Testing loss: 3.2346\n"
     ]
    },
    {
     "name": "stderr",
     "output_type": "stream",
     "text": [
      "Loss: 7.7100: 100%|██████████| 13/13 [00:09<00:00,  1.37it/s]\n"
     ]
    },
    {
     "name": "stdout",
     "output_type": "stream",
     "text": [
      "Testing loss: 3.7223\n"
     ]
    },
    {
     "name": "stderr",
     "output_type": "stream",
     "text": [
      "Loss: 6.2146: 100%|██████████| 13/13 [00:09<00:00,  1.35it/s]\n"
     ]
    },
    {
     "name": "stdout",
     "output_type": "stream",
     "text": [
      "Testing loss: 2.7523\n"
     ]
    },
    {
     "name": "stderr",
     "output_type": "stream",
     "text": [
      "Loss: 4.2851: 100%|██████████| 13/13 [00:09<00:00,  1.36it/s]\n"
     ]
    },
    {
     "name": "stdout",
     "output_type": "stream",
     "text": [
      "Testing loss: 3.0556\n"
     ]
    },
    {
     "name": "stderr",
     "output_type": "stream",
     "text": [
      "Loss: 3.3444: 100%|██████████| 13/13 [00:09<00:00,  1.35it/s]\n"
     ]
    },
    {
     "name": "stdout",
     "output_type": "stream",
     "text": [
      "Testing loss: 2.9136\n"
     ]
    },
    {
     "name": "stderr",
     "output_type": "stream",
     "text": [
      "Loss: 2.8455: 100%|██████████| 13/13 [00:09<00:00,  1.36it/s]\n"
     ]
    },
    {
     "name": "stdout",
     "output_type": "stream",
     "text": [
      "Testing loss: 2.9689\n"
     ]
    },
    {
     "name": "stderr",
     "output_type": "stream",
     "text": [
      "Loss: 2.3129: 100%|██████████| 13/13 [00:09<00:00,  1.36it/s]\n"
     ]
    },
    {
     "name": "stdout",
     "output_type": "stream",
     "text": [
      "Testing loss: 2.6860\n"
     ]
    },
    {
     "name": "stderr",
     "output_type": "stream",
     "text": [
      "Loss: 2.9410: 100%|██████████| 13/13 [00:09<00:00,  1.36it/s]\n"
     ]
    },
    {
     "name": "stdout",
     "output_type": "stream",
     "text": [
      "Testing loss: 3.5481\n"
     ]
    },
    {
     "name": "stderr",
     "output_type": "stream",
     "text": [
      "Loss: 2.1163: 100%|██████████| 13/13 [00:09<00:00,  1.35it/s]\n"
     ]
    },
    {
     "name": "stdout",
     "output_type": "stream",
     "text": [
      "Testing loss: 5.3861\n"
     ]
    },
    {
     "name": "stderr",
     "output_type": "stream",
     "text": [
      "Loss: 2.1005: 100%|██████████| 13/13 [00:09<00:00,  1.35it/s]\n"
     ]
    },
    {
     "name": "stdout",
     "output_type": "stream",
     "text": [
      "Testing loss: 5.4045\n"
     ]
    },
    {
     "name": "stderr",
     "output_type": "stream",
     "text": [
      "Loss: 1.9330: 100%|██████████| 13/13 [00:09<00:00,  1.35it/s]\n"
     ]
    },
    {
     "name": "stdout",
     "output_type": "stream",
     "text": [
      "Testing loss: 9.3693\n"
     ]
    },
    {
     "name": "stderr",
     "output_type": "stream",
     "text": [
      "Loss: 1.8254: 100%|██████████| 13/13 [00:09<00:00,  1.35it/s]\n"
     ]
    },
    {
     "name": "stdout",
     "output_type": "stream",
     "text": [
      "Testing loss: 7.5520\n"
     ]
    },
    {
     "name": "stderr",
     "output_type": "stream",
     "text": [
      "Loss: 1.9131: 100%|██████████| 13/13 [00:09<00:00,  1.34it/s]\n"
     ]
    },
    {
     "name": "stdout",
     "output_type": "stream",
     "text": [
      "Testing loss: 7.8446\n"
     ]
    },
    {
     "name": "stderr",
     "output_type": "stream",
     "text": [
      "Loss: 1.7174: 100%|██████████| 13/13 [00:09<00:00,  1.36it/s]\n"
     ]
    },
    {
     "name": "stdout",
     "output_type": "stream",
     "text": [
      "Testing loss: 8.6148\n"
     ]
    },
    {
     "name": "stderr",
     "output_type": "stream",
     "text": [
      "Loss: 1.6592: 100%|██████████| 13/13 [00:09<00:00,  1.37it/s]\n"
     ]
    },
    {
     "name": "stdout",
     "output_type": "stream",
     "text": [
      "Testing loss: 8.8188\n"
     ]
    },
    {
     "name": "stderr",
     "output_type": "stream",
     "text": [
      "Loss: 1.9160: 100%|██████████| 13/13 [00:09<00:00,  1.37it/s]\n"
     ]
    },
    {
     "name": "stdout",
     "output_type": "stream",
     "text": [
      "Testing loss: 8.7679\n"
     ]
    },
    {
     "name": "stderr",
     "output_type": "stream",
     "text": [
      "Loss: 1.7484: 100%|██████████| 13/13 [00:09<00:00,  1.36it/s]\n"
     ]
    },
    {
     "name": "stdout",
     "output_type": "stream",
     "text": [
      "Testing loss: 9.6400\n"
     ]
    },
    {
     "name": "stderr",
     "output_type": "stream",
     "text": [
      "Loss: 1.5259: 100%|██████████| 13/13 [00:09<00:00,  1.37it/s]\n"
     ]
    },
    {
     "name": "stdout",
     "output_type": "stream",
     "text": [
      "Testing loss: 10.9793\n"
     ]
    },
    {
     "name": "stderr",
     "output_type": "stream",
     "text": [
      "Loss: 1.1979: 100%|██████████| 13/13 [00:09<00:00,  1.36it/s]\n"
     ]
    },
    {
     "name": "stdout",
     "output_type": "stream",
     "text": [
      "Testing loss: 9.8723\n"
     ]
    },
    {
     "name": "stderr",
     "output_type": "stream",
     "text": [
      "Loss: 1.4154: 100%|██████████| 13/13 [00:09<00:00,  1.37it/s]\n"
     ]
    },
    {
     "name": "stdout",
     "output_type": "stream",
     "text": [
      "Testing loss: 9.9909\n"
     ]
    },
    {
     "name": "stderr",
     "output_type": "stream",
     "text": [
      "Loss: 1.5278: 100%|██████████| 13/13 [00:09<00:00,  1.37it/s]\n"
     ]
    },
    {
     "name": "stdout",
     "output_type": "stream",
     "text": [
      "Testing loss: 12.4594\n"
     ]
    },
    {
     "name": "stderr",
     "output_type": "stream",
     "text": [
      "Loss: 1.2333: 100%|██████████| 13/13 [00:09<00:00,  1.36it/s]\n"
     ]
    },
    {
     "name": "stdout",
     "output_type": "stream",
     "text": [
      "Testing loss: 9.0094\n"
     ]
    },
    {
     "name": "stderr",
     "output_type": "stream",
     "text": [
      "Loss: 1.6009: 100%|██████████| 13/13 [00:09<00:00,  1.37it/s]\n"
     ]
    },
    {
     "name": "stdout",
     "output_type": "stream",
     "text": [
      "Testing loss: 8.6488\n"
     ]
    },
    {
     "name": "stderr",
     "output_type": "stream",
     "text": [
      "Loss: 1.2129: 100%|██████████| 13/13 [00:09<00:00,  1.37it/s]\n"
     ]
    },
    {
     "name": "stdout",
     "output_type": "stream",
     "text": [
      "Testing loss: 10.0387\n"
     ]
    },
    {
     "name": "stderr",
     "output_type": "stream",
     "text": [
      "Loss: 1.0757: 100%|██████████| 13/13 [00:09<00:00,  1.37it/s]\n"
     ]
    },
    {
     "name": "stdout",
     "output_type": "stream",
     "text": [
      "Testing loss: 9.7528\n"
     ]
    },
    {
     "name": "stderr",
     "output_type": "stream",
     "text": [
      "Loss: 1.1439: 100%|██████████| 13/13 [00:09<00:00,  1.36it/s]\n"
     ]
    },
    {
     "name": "stdout",
     "output_type": "stream",
     "text": [
      "Testing loss: 8.8845\n"
     ]
    },
    {
     "name": "stderr",
     "output_type": "stream",
     "text": [
      "Loss: 1.2779: 100%|██████████| 13/13 [00:09<00:00,  1.37it/s]\n"
     ]
    },
    {
     "name": "stdout",
     "output_type": "stream",
     "text": [
      "Testing loss: 10.1741\n"
     ]
    },
    {
     "name": "stderr",
     "output_type": "stream",
     "text": [
      "Loss: 1.1396: 100%|██████████| 13/13 [00:09<00:00,  1.37it/s]\n"
     ]
    },
    {
     "name": "stdout",
     "output_type": "stream",
     "text": [
      "Testing loss: 7.7811\n"
     ]
    },
    {
     "name": "stderr",
     "output_type": "stream",
     "text": [
      "Loss: 1.0594: 100%|██████████| 13/13 [00:09<00:00,  1.37it/s]\n"
     ]
    },
    {
     "name": "stdout",
     "output_type": "stream",
     "text": [
      "Testing loss: 8.7174\n"
     ]
    },
    {
     "name": "stderr",
     "output_type": "stream",
     "text": [
      "Loss: 1.1267: 100%|██████████| 13/13 [00:09<00:00,  1.35it/s]\n"
     ]
    },
    {
     "name": "stdout",
     "output_type": "stream",
     "text": [
      "Testing loss: 5.3074\n"
     ]
    },
    {
     "name": "stderr",
     "output_type": "stream",
     "text": [
      "Loss: 1.1212: 100%|██████████| 13/13 [00:09<00:00,  1.36it/s]\n"
     ]
    },
    {
     "name": "stdout",
     "output_type": "stream",
     "text": [
      "Testing loss: 9.2204\n"
     ]
    },
    {
     "name": "stderr",
     "output_type": "stream",
     "text": [
      "Loss: 0.9836: 100%|██████████| 13/13 [00:09<00:00,  1.36it/s]\n"
     ]
    },
    {
     "name": "stdout",
     "output_type": "stream",
     "text": [
      "Testing loss: 4.9942\n"
     ]
    },
    {
     "name": "stderr",
     "output_type": "stream",
     "text": [
      "Loss: 1.1011: 100%|██████████| 13/13 [00:09<00:00,  1.36it/s]\n"
     ]
    },
    {
     "name": "stdout",
     "output_type": "stream",
     "text": [
      "Testing loss: 7.3108\n"
     ]
    },
    {
     "name": "stderr",
     "output_type": "stream",
     "text": [
      "Loss: 0.9014: 100%|██████████| 13/13 [00:09<00:00,  1.37it/s]\n"
     ]
    },
    {
     "name": "stdout",
     "output_type": "stream",
     "text": [
      "Testing loss: 4.2140\n"
     ]
    },
    {
     "name": "stderr",
     "output_type": "stream",
     "text": [
      "Loss: 0.8952: 100%|██████████| 13/13 [00:09<00:00,  1.36it/s]\n"
     ]
    },
    {
     "name": "stdout",
     "output_type": "stream",
     "text": [
      "Testing loss: 5.5424\n"
     ]
    },
    {
     "name": "stderr",
     "output_type": "stream",
     "text": [
      "Loss: 0.8707: 100%|██████████| 13/13 [00:09<00:00,  1.37it/s]\n"
     ]
    },
    {
     "name": "stdout",
     "output_type": "stream",
     "text": [
      "Testing loss: 4.1287\n"
     ]
    },
    {
     "name": "stderr",
     "output_type": "stream",
     "text": [
      "Loss: 0.9386: 100%|██████████| 13/13 [00:09<00:00,  1.37it/s]\n"
     ]
    },
    {
     "name": "stdout",
     "output_type": "stream",
     "text": [
      "Testing loss: 4.3552\n"
     ]
    },
    {
     "name": "stderr",
     "output_type": "stream",
     "text": [
      "Loss: 0.8713: 100%|██████████| 13/13 [00:09<00:00,  1.37it/s]\n"
     ]
    },
    {
     "name": "stdout",
     "output_type": "stream",
     "text": [
      "Testing loss: 4.0054\n"
     ]
    },
    {
     "name": "stderr",
     "output_type": "stream",
     "text": [
      "Loss: 0.8859: 100%|██████████| 13/13 [00:09<00:00,  1.36it/s]\n"
     ]
    },
    {
     "name": "stdout",
     "output_type": "stream",
     "text": [
      "Testing loss: 4.2113\n"
     ]
    },
    {
     "name": "stderr",
     "output_type": "stream",
     "text": [
      "Loss: 0.9531: 100%|██████████| 13/13 [00:09<00:00,  1.37it/s]\n"
     ]
    },
    {
     "name": "stdout",
     "output_type": "stream",
     "text": [
      "Testing loss: 3.2647\n"
     ]
    },
    {
     "name": "stderr",
     "output_type": "stream",
     "text": [
      "Loss: 0.9508: 100%|██████████| 13/13 [00:09<00:00,  1.37it/s]\n"
     ]
    },
    {
     "name": "stdout",
     "output_type": "stream",
     "text": [
      "Testing loss: 4.1275\n"
     ]
    },
    {
     "name": "stderr",
     "output_type": "stream",
     "text": [
      "Loss: 1.1657: 100%|██████████| 13/13 [00:09<00:00,  1.35it/s]\n"
     ]
    },
    {
     "name": "stdout",
     "output_type": "stream",
     "text": [
      "Testing loss: 2.8343\n"
     ]
    },
    {
     "name": "stderr",
     "output_type": "stream",
     "text": [
      "Loss: 0.9476: 100%|██████████| 13/13 [00:09<00:00,  1.36it/s]\n"
     ]
    },
    {
     "name": "stdout",
     "output_type": "stream",
     "text": [
      "Testing loss: 3.9824\n"
     ]
    },
    {
     "name": "stderr",
     "output_type": "stream",
     "text": [
      "Loss: 0.8866: 100%|██████████| 13/13 [00:09<00:00,  1.35it/s]\n"
     ]
    },
    {
     "name": "stdout",
     "output_type": "stream",
     "text": [
      "Testing loss: 3.3555\n"
     ]
    },
    {
     "name": "stderr",
     "output_type": "stream",
     "text": [
      "Loss: 1.0926: 100%|██████████| 13/13 [00:09<00:00,  1.35it/s]\n"
     ]
    },
    {
     "name": "stdout",
     "output_type": "stream",
     "text": [
      "Testing loss: 2.9868\n"
     ]
    },
    {
     "name": "stderr",
     "output_type": "stream",
     "text": [
      "Loss: 0.7597: 100%|██████████| 13/13 [00:09<00:00,  1.35it/s]\n"
     ]
    },
    {
     "name": "stdout",
     "output_type": "stream",
     "text": [
      "Testing loss: 3.6306\n"
     ]
    },
    {
     "name": "stderr",
     "output_type": "stream",
     "text": [
      "Loss: 0.7538: 100%|██████████| 13/13 [00:09<00:00,  1.34it/s]\n"
     ]
    },
    {
     "name": "stdout",
     "output_type": "stream",
     "text": [
      "Testing loss: 3.4604\n"
     ]
    },
    {
     "name": "stderr",
     "output_type": "stream",
     "text": [
      "Loss: 0.9294: 100%|██████████| 13/13 [00:09<00:00,  1.36it/s]\n"
     ]
    },
    {
     "name": "stdout",
     "output_type": "stream",
     "text": [
      "Testing loss: 2.7628\n"
     ]
    },
    {
     "name": "stderr",
     "output_type": "stream",
     "text": [
      "Loss: 0.9353: 100%|██████████| 13/13 [00:09<00:00,  1.37it/s]\n"
     ]
    },
    {
     "name": "stdout",
     "output_type": "stream",
     "text": [
      "Testing loss: 2.9427\n"
     ]
    },
    {
     "name": "stderr",
     "output_type": "stream",
     "text": [
      "Loss: 0.7927: 100%|██████████| 13/13 [00:09<00:00,  1.37it/s]\n"
     ]
    },
    {
     "name": "stdout",
     "output_type": "stream",
     "text": [
      "Testing loss: 3.2928\n"
     ]
    },
    {
     "name": "stderr",
     "output_type": "stream",
     "text": [
      "Loss: 0.6785: 100%|██████████| 13/13 [00:09<00:00,  1.36it/s]\n"
     ]
    },
    {
     "name": "stdout",
     "output_type": "stream",
     "text": [
      "Testing loss: 2.5172\n"
     ]
    },
    {
     "name": "stderr",
     "output_type": "stream",
     "text": [
      "Loss: 0.7154: 100%|██████████| 13/13 [00:09<00:00,  1.37it/s]\n"
     ]
    },
    {
     "name": "stdout",
     "output_type": "stream",
     "text": [
      "Testing loss: 2.5367\n"
     ]
    },
    {
     "name": "stderr",
     "output_type": "stream",
     "text": [
      "Loss: 0.8221: 100%|██████████| 13/13 [00:09<00:00,  1.37it/s]\n"
     ]
    },
    {
     "name": "stdout",
     "output_type": "stream",
     "text": [
      "Testing loss: 2.5281\n"
     ]
    },
    {
     "name": "stderr",
     "output_type": "stream",
     "text": [
      "Loss: 0.9119: 100%|██████████| 13/13 [00:09<00:00,  1.38it/s]\n"
     ]
    },
    {
     "name": "stdout",
     "output_type": "stream",
     "text": [
      "Testing loss: 3.4862\n"
     ]
    },
    {
     "name": "stderr",
     "output_type": "stream",
     "text": [
      "Loss: 0.7174: 100%|██████████| 13/13 [00:09<00:00,  1.36it/s]\n"
     ]
    },
    {
     "name": "stdout",
     "output_type": "stream",
     "text": [
      "Testing loss: 2.7189\n"
     ]
    },
    {
     "name": "stderr",
     "output_type": "stream",
     "text": [
      "Loss: 0.7650: 100%|██████████| 13/13 [00:09<00:00,  1.37it/s]\n"
     ]
    },
    {
     "name": "stdout",
     "output_type": "stream",
     "text": [
      "Testing loss: 3.3145\n"
     ]
    },
    {
     "name": "stderr",
     "output_type": "stream",
     "text": [
      "Loss: 0.6426: 100%|██████████| 13/13 [00:09<00:00,  1.37it/s]\n"
     ]
    },
    {
     "name": "stdout",
     "output_type": "stream",
     "text": [
      "Testing loss: 2.8623\n"
     ]
    },
    {
     "name": "stderr",
     "output_type": "stream",
     "text": [
      "Loss: 0.8019: 100%|██████████| 13/13 [00:09<00:00,  1.37it/s]\n"
     ]
    },
    {
     "name": "stdout",
     "output_type": "stream",
     "text": [
      "Testing loss: 2.7898\n"
     ]
    },
    {
     "name": "stderr",
     "output_type": "stream",
     "text": [
      "Loss: 0.7560: 100%|██████████| 13/13 [00:09<00:00,  1.36it/s]\n"
     ]
    },
    {
     "name": "stdout",
     "output_type": "stream",
     "text": [
      "Testing loss: 2.6022\n"
     ]
    },
    {
     "name": "stderr",
     "output_type": "stream",
     "text": [
      "Loss: 0.8930: 100%|██████████| 13/13 [00:09<00:00,  1.37it/s]\n"
     ]
    },
    {
     "name": "stdout",
     "output_type": "stream",
     "text": [
      "Testing loss: 2.6720\n"
     ]
    },
    {
     "name": "stderr",
     "output_type": "stream",
     "text": [
      "Loss: 0.8249: 100%|██████████| 13/13 [00:09<00:00,  1.37it/s]\n"
     ]
    },
    {
     "name": "stdout",
     "output_type": "stream",
     "text": [
      "Testing loss: 2.7146\n"
     ]
    },
    {
     "name": "stderr",
     "output_type": "stream",
     "text": [
      "Loss: 0.7292: 100%|██████████| 13/13 [00:09<00:00,  1.37it/s]\n"
     ]
    },
    {
     "name": "stdout",
     "output_type": "stream",
     "text": [
      "Testing loss: 2.7569\n"
     ]
    },
    {
     "name": "stderr",
     "output_type": "stream",
     "text": [
      "Loss: 0.7044: 100%|██████████| 13/13 [00:09<00:00,  1.36it/s]\n"
     ]
    },
    {
     "name": "stdout",
     "output_type": "stream",
     "text": [
      "Testing loss: 2.9967\n"
     ]
    },
    {
     "name": "stderr",
     "output_type": "stream",
     "text": [
      "Loss: 0.7751: 100%|██████████| 13/13 [00:09<00:00,  1.37it/s]\n"
     ]
    },
    {
     "name": "stdout",
     "output_type": "stream",
     "text": [
      "Testing loss: 2.8086\n"
     ]
    },
    {
     "name": "stderr",
     "output_type": "stream",
     "text": [
      "Loss: 0.6572: 100%|██████████| 13/13 [00:09<00:00,  1.37it/s]\n"
     ]
    },
    {
     "name": "stdout",
     "output_type": "stream",
     "text": [
      "Testing loss: 2.3233\n"
     ]
    },
    {
     "name": "stderr",
     "output_type": "stream",
     "text": [
      "Loss: 0.8161: 100%|██████████| 13/13 [00:09<00:00,  1.37it/s]\n"
     ]
    },
    {
     "name": "stdout",
     "output_type": "stream",
     "text": [
      "Testing loss: 2.6117\n"
     ]
    },
    {
     "name": "stderr",
     "output_type": "stream",
     "text": [
      "Loss: 0.7118: 100%|██████████| 13/13 [00:09<00:00,  1.37it/s]\n"
     ]
    },
    {
     "name": "stdout",
     "output_type": "stream",
     "text": [
      "Testing loss: 3.2008\n"
     ]
    },
    {
     "name": "stderr",
     "output_type": "stream",
     "text": [
      "Loss: 0.7044: 100%|██████████| 13/13 [00:09<00:00,  1.38it/s]\n"
     ]
    },
    {
     "name": "stdout",
     "output_type": "stream",
     "text": [
      "Testing loss: 3.6367\n"
     ]
    },
    {
     "name": "stderr",
     "output_type": "stream",
     "text": [
      "Loss: 0.6582: 100%|██████████| 13/13 [00:09<00:00,  1.37it/s]\n"
     ]
    },
    {
     "name": "stdout",
     "output_type": "stream",
     "text": [
      "Testing loss: 3.6478\n"
     ]
    },
    {
     "name": "stderr",
     "output_type": "stream",
     "text": [
      "Loss: 0.7729: 100%|██████████| 13/13 [00:10<00:00,  1.25it/s]\n"
     ]
    },
    {
     "name": "stdout",
     "output_type": "stream",
     "text": [
      "Testing loss: 2.5711\n"
     ]
    },
    {
     "name": "stderr",
     "output_type": "stream",
     "text": [
      "Loss: 0.5699: 100%|██████████| 13/13 [00:10<00:00,  1.25it/s]\n"
     ]
    },
    {
     "name": "stdout",
     "output_type": "stream",
     "text": [
      "Testing loss: 3.0610\n"
     ]
    },
    {
     "name": "stderr",
     "output_type": "stream",
     "text": [
      "Loss: 0.5680: 100%|██████████| 13/13 [00:10<00:00,  1.25it/s]\n"
     ]
    },
    {
     "name": "stdout",
     "output_type": "stream",
     "text": [
      "Testing loss: 3.8427\n"
     ]
    },
    {
     "name": "stderr",
     "output_type": "stream",
     "text": [
      "Loss: 0.6425: 100%|██████████| 13/13 [00:10<00:00,  1.26it/s]\n"
     ]
    },
    {
     "name": "stdout",
     "output_type": "stream",
     "text": [
      "Testing loss: 3.6223\n"
     ]
    },
    {
     "name": "stderr",
     "output_type": "stream",
     "text": [
      "Loss: 0.5628: 100%|██████████| 13/13 [00:10<00:00,  1.25it/s]\n"
     ]
    },
    {
     "name": "stdout",
     "output_type": "stream",
     "text": [
      "Testing loss: 3.4045\n"
     ]
    },
    {
     "name": "stderr",
     "output_type": "stream",
     "text": [
      "Loss: 0.5507: 100%|██████████| 13/13 [00:10<00:00,  1.25it/s]\n"
     ]
    },
    {
     "name": "stdout",
     "output_type": "stream",
     "text": [
      "Testing loss: 3.4857\n"
     ]
    },
    {
     "name": "stderr",
     "output_type": "stream",
     "text": [
      "Loss: 0.7945: 100%|██████████| 13/13 [00:10<00:00,  1.25it/s]\n"
     ]
    },
    {
     "name": "stdout",
     "output_type": "stream",
     "text": [
      "Testing loss: 3.3247\n"
     ]
    },
    {
     "name": "stderr",
     "output_type": "stream",
     "text": [
      "Loss: 0.6651: 100%|██████████| 13/13 [00:10<00:00,  1.25it/s]\n"
     ]
    },
    {
     "name": "stdout",
     "output_type": "stream",
     "text": [
      "Testing loss: 3.2868\n"
     ]
    },
    {
     "name": "stderr",
     "output_type": "stream",
     "text": [
      "Loss: 0.5926: 100%|██████████| 13/13 [00:10<00:00,  1.25it/s]\n"
     ]
    },
    {
     "name": "stdout",
     "output_type": "stream",
     "text": [
      "Testing loss: 3.8046\n"
     ]
    },
    {
     "name": "stderr",
     "output_type": "stream",
     "text": [
      "Loss: 0.6107: 100%|██████████| 13/13 [00:10<00:00,  1.26it/s]\n"
     ]
    },
    {
     "name": "stdout",
     "output_type": "stream",
     "text": [
      "Testing loss: 4.0006\n"
     ]
    },
    {
     "name": "stderr",
     "output_type": "stream",
     "text": [
      "Loss: 0.5682: 100%|██████████| 13/13 [00:10<00:00,  1.24it/s]\n"
     ]
    },
    {
     "name": "stdout",
     "output_type": "stream",
     "text": [
      "Testing loss: 4.5181\n"
     ]
    },
    {
     "name": "stderr",
     "output_type": "stream",
     "text": [
      "Loss: 0.6248: 100%|██████████| 13/13 [00:10<00:00,  1.25it/s]\n"
     ]
    },
    {
     "name": "stdout",
     "output_type": "stream",
     "text": [
      "Testing loss: 3.9490\n"
     ]
    },
    {
     "name": "stderr",
     "output_type": "stream",
     "text": [
      "Loss: 0.5634: 100%|██████████| 13/13 [00:10<00:00,  1.25it/s]\n"
     ]
    },
    {
     "name": "stdout",
     "output_type": "stream",
     "text": [
      "Testing loss: 4.2051\n"
     ]
    },
    {
     "name": "stderr",
     "output_type": "stream",
     "text": [
      "Loss: 0.4856: 100%|██████████| 13/13 [00:10<00:00,  1.25it/s]\n"
     ]
    },
    {
     "name": "stdout",
     "output_type": "stream",
     "text": [
      "Testing loss: 3.8543\n"
     ]
    },
    {
     "name": "stderr",
     "output_type": "stream",
     "text": [
      "Loss: 0.5816: 100%|██████████| 13/13 [00:09<00:00,  1.36it/s]\n"
     ]
    },
    {
     "name": "stdout",
     "output_type": "stream",
     "text": [
      "Testing loss: 3.7901\n"
     ]
    },
    {
     "name": "stderr",
     "output_type": "stream",
     "text": [
      "Loss: 0.4973: 100%|██████████| 13/13 [00:10<00:00,  1.25it/s]\n"
     ]
    },
    {
     "name": "stdout",
     "output_type": "stream",
     "text": [
      "Testing loss: 5.1614\n"
     ]
    },
    {
     "name": "stderr",
     "output_type": "stream",
     "text": [
      "Loss: 0.5649: 100%|██████████| 13/13 [00:10<00:00,  1.25it/s]\n"
     ]
    },
    {
     "name": "stdout",
     "output_type": "stream",
     "text": [
      "Testing loss: 3.7469\n"
     ]
    },
    {
     "name": "stderr",
     "output_type": "stream",
     "text": [
      "Loss: 0.5750: 100%|██████████| 13/13 [00:10<00:00,  1.25it/s]\n"
     ]
    },
    {
     "name": "stdout",
     "output_type": "stream",
     "text": [
      "Testing loss: 3.0639\n"
     ]
    },
    {
     "name": "stderr",
     "output_type": "stream",
     "text": [
      "Loss: 0.6511: 100%|██████████| 13/13 [00:10<00:00,  1.26it/s]\n"
     ]
    },
    {
     "name": "stdout",
     "output_type": "stream",
     "text": [
      "Testing loss: 4.3589\n"
     ]
    },
    {
     "name": "stderr",
     "output_type": "stream",
     "text": [
      "Loss: 0.4910: 100%|██████████| 13/13 [00:10<00:00,  1.24it/s]\n"
     ]
    },
    {
     "name": "stdout",
     "output_type": "stream",
     "text": [
      "Testing loss: 5.0226\n"
     ]
    },
    {
     "name": "stderr",
     "output_type": "stream",
     "text": [
      "Loss: 0.5519: 100%|██████████| 13/13 [00:10<00:00,  1.26it/s]"
     ]
    },
    {
     "name": "stdout",
     "output_type": "stream",
     "text": [
      "Testing loss: 4.2226\n"
     ]
    },
    {
     "name": "stderr",
     "output_type": "stream",
     "text": [
      "\n"
     ]
    }
   ],
   "source": [
    "# Set up training and testing sets\n",
    "period = 3*365\n",
    "daily = pd.read_csv(\"/home/ScoutJarman/Code/ILWA/data/other/Daily.csv\", parse_dates=['date'])\n",
    "daily_train = daily.iloc[:-period]\n",
    "daily_test = daily.iloc[-period:]\n",
    "dataset_test = BearLakeDataset(daily_test, period_days=period)\n",
    "dataloader_test = DataLoader(dataset_test, batch_size=period, shuffle=False)\n",
    "\n",
    "\n",
    "# Define hyperparameters\n",
    "num_epochs = 100\n",
    "batch_size = 1024\n",
    "learning_rate = 5e-4\n",
    "torch.manual_seed(789)\n",
    "device_id = 0\n",
    "if torch.cuda.is_available():\n",
    "    device = f\"cuda:{device_id}\"\n",
    "else:\n",
    "    device = 'cpu'\n",
    "\n",
    "\n",
    "# Instantiate the GRU model\n",
    "model = GRU_MME()\n",
    "model.to(device)\n",
    "torch.autograd.set_detect_anomaly(True)\n",
    "\n",
    "# Define loss function and optimizer\n",
    "criterion = nn.MSELoss()\n",
    "optimizer = optim.Adam(model.parameters(), lr=learning_rate)\n",
    "\n",
    "# Training loop\n",
    "training_loss_all = []\n",
    "training_loss_epoch = []\n",
    "testing_loss_epoch = []\n",
    "try:\n",
    "    for i, period in enumerate([3*365]):\n",
    "        \n",
    "        # Set up dataloaders and sets\n",
    "        print(f\"Training on {period} days for {num_epochs} epochs...\")\n",
    "        dataset_train = BearLakeDataset(daily_train, period_days=period)\n",
    "        dataloader = DataLoader(dataset_train, batch_size=int(batch_size), shuffle=True)\n",
    "        \n",
    "\n",
    "        # Train over epochs\n",
    "        tmp_epoch_loss = []\n",
    "        for epoch in range(num_epochs):\n",
    "            model.train()\n",
    "            pbar = tqdm(dataloader)\n",
    "            for batch_X, batch_Ys in pbar:\n",
    "                batch_X = batch_X.to(device)\n",
    "                batch_Ys = batch_Ys.to(device)\n",
    "                # Forward pass\n",
    "                outputs, std = model(batch_X)\n",
    "                # Compute the loss\n",
    "                loss = criterion(outputs, batch_Ys)\n",
    "                # Backward pass and optimization\n",
    "                optimizer.zero_grad()\n",
    "                loss.backward()\n",
    "                optimizer.step()\n",
    "                pbar.set_description(f\"Loss: {loss.item():.4f}\")\n",
    "                training_loss_all.append(loss.item())\n",
    "                tmp_epoch_loss.append(loss.item())\n",
    "            training_loss_epoch.append(np.mean(tmp_epoch_loss))\n",
    "\n",
    "            # Eval model\n",
    "            model.eval()\n",
    "            with torch.no_grad():\n",
    "                tmp_loss = 0\n",
    "                for batch_X, batch_Ys in dataloader_test:\n",
    "                    batch_X = batch_X.to(device)\n",
    "                    batch_Ys = batch_Ys.to(device)\n",
    "                    outputs, std = model(batch_X)\n",
    "                    \n",
    "                    loss = criterion(outputs, batch_Ys)\n",
    "                    tmp_loss += loss.item()\n",
    "                testing_loss_epoch.append(tmp_loss/len(dataloader_test))\n",
    "            print(f\"Testing loss: {testing_loss_epoch[-1]:.4f}\")\n",
    "            # Save the trained model if needed\n",
    "            torch.save(model.state_dict(), f'gru_model_{period}.pth')\n",
    "except Exception as e:\n",
    "    print(e)\n",
    "    torch.save(model.state_dict(), f'gru_model_final.pth')\n",
    "finally:\n",
    "    torch.save(model.state_dict(), f'gru_model_final.pth')"
   ]
  },
  {
   "cell_type": "code",
   "execution_count": 10,
   "metadata": {},
   "outputs": [
    {
     "data": {
      "image/png": "[encoded data removed]",
      "text/plain": [
       "<Figure size 640x480 with 1 Axes>"
      ]
     },
     "metadata": {},
     "output_type": "display_data"
    },
    {
     "data": {
      "image/png": "[encoded data removed]",
      "text/plain": [
       "<Figure size 640x480 with 1 Axes>"
      ]
     },
     "metadata": {},
     "output_type": "display_data"
    }
   ],
   "source": [
    "plt.plot(training_loss_all)\n",
    "plt.yscale(\"log\")\n",
    "plt.show()\n",
    "\n",
    "plt.plot(training_loss_epoch, label='training')\n",
    "plt.plot(testing_loss_epoch, label='test')\n",
    "plt.legend()\n",
    "plt.yscale(\"log\")"
   ]
  },
  {
   "cell_type": "code",
   "execution_count": 9,
   "metadata": {},
   "outputs": [
    {
     "data": {
      "text/plain": [
       "74"
      ]
     },
     "execution_count": 9,
     "metadata": {},
     "output_type": "execute_result"
    }
   ],
   "source": [
    "np.argmin(testing_loss_epoch)"
   ]
  }
 ],
 "metadata": {
  "kernelspec": {
   "display_name": "ILWA",
   "language": "python",
   "name": "python3"
  },
  "language_info": {
   "codemirror_mode": {
    "name": "ipython",
    "version": 3
   },
   "file_extension": ".py",
   "mimetype": "text/x-python",
   "name": "python",
   "nbconvert_exporter": "python",
   "pygments_lexer": "ipython3",
   "version": "3.10.13"
  }
 },
 "nbformat": 4,
 "nbformat_minor": 2
}
